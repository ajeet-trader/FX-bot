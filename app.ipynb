{
  "nbformat": 4,
  "nbformat_minor": 0,
  "metadata": {
    "colab": {
      "provenance": [],
      "authorship_tag": "ABX9TyP2WumE53SB/fgXJpIMIIsQ",
      "include_colab_link": true
    },
    "kernelspec": {
      "name": "python3",
      "display_name": "Python 3"
    },
    "language_info": {
      "name": "python"
    }
  },
  "cells": [
    {
      "cell_type": "markdown",
      "metadata": {
        "id": "view-in-github",
        "colab_type": "text"
      },
      "source": [
        "<a href=\"https://colab.research.google.com/github/ajeet-trader/FX-bot/blob/main/app.ipynb\" target=\"_parent\"><img src=\"https://colab.research.google.com/assets/colab-badge.svg\" alt=\"Open In Colab\"/></a>"
      ]
    },
    {
      "cell_type": "code",
      "execution_count": 1,
      "metadata": {
        "colab": {
          "base_uri": "https://localhost:8080/",
          "height": 106
        },
        "id": "1k7F34-8pnlk",
        "outputId": "82758baa-1d2c-40ab-d051-985e46fc25da"
      },
      "outputs": [
        {
          "output_type": "error",
          "ename": "SyntaxError",
          "evalue": "invalid syntax (ipython-input-1-1649162778.py, line 2)",
          "traceback": [
            "\u001b[0;36m  File \u001b[0;32m\"/tmp/ipython-input-1-1649162778.py\"\u001b[0;36m, line \u001b[0;32m2\u001b[0m\n\u001b[0;31m    f.write(\"\"import streamlit as st\u001b[0m\n\u001b[0m              ^\u001b[0m\n\u001b[0;31mSyntaxError\u001b[0m\u001b[0;31m:\u001b[0m invalid syntax\n"
          ]
        }
      ],
      "source": [
        "import streamlit as st\n",
        "import pandas as pd\n",
        "import yfinance as yf\n",
        "import plotly.graph_objects as go\n",
        "import ta\n",
        "\n",
        "# ------------------- APP TITLE --------------------\n",
        "st.set_page_config(page_title=\"Forex Signal Bot\", layout=\"centered\")\n",
        "st.title(\"📈 Forex Smart Signal Bot\")\n",
        "st.markdown(\"Made by Ajeet – Strategy: EMA + RSI + Candle Reversal\")\n",
        "\n",
        "# ------------------- SIDEBAR INPUT --------------------\n",
        "st.sidebar.header(\"🛠️ Settings\")\n",
        "\n",
        "symbols = {\n",
        "    \"EURUSD\": \"EURUSD=X\",\n",
        "    \"GBPUSD\": \"GBPUSD=X\",\n",
        "    \"USDJPY\": \"JPY=X\",\n",
        "    \"AUDUSD\": \"AUDUSD=X\",\n",
        "    \"USDCAD\": \"CAD=X\",\n",
        "    \"USDCHF\": \"CHF=X\",\n",
        "    \"NZDUSD\": \"NZDUSD=X\"\n",
        "}\n",
        "\n",
        "symbol_name = st.sidebar.selectbox(\"Select Symbol\", list(symbols.keys()))\n",
        "symbol = symbols[symbol_name]\n",
        "\n",
        "timeframe = st.sidebar.selectbox(\"Select Timeframe\", [\"1h\", \"30m\", \"15m\"])\n",
        "period = st.sidebar.selectbox(\"Data Period\", [\"90d\", \"180d\", \"730d\"])\n",
        "\n",
        "# ------------------- FETCH DATA --------------------\n",
        "@st.cache_data(ttl=600)\n",
        "def fetch_data(symbol, period, interval):\n",
        "    df = yf.download(tickers=symbol, period=period, interval=interval, progress=False)\n",
        "    if isinstance(df.columns, pd.MultiIndex):\n",
        "        df.columns = df.columns.get_level_values(0)\n",
        "    return df.dropna()\n",
        "\n",
        "df = fetch_data(symbol, period, timeframe)\n",
        "\n",
        "# ------------------- CALCULATE SIGNALS --------------------\n",
        "df[\"ema50\"] = ta.trend.ema_indicator(df[\"Close\"], window=50)\n",
        "df[\"ema200\"] = ta.trend.ema_indicator(df[\"Close\"], window=200)\n",
        "df[\"rsi\"] = ta.momentum.rsi(df[\"Close\"], window=14)\n",
        "\n",
        "def generate_signals(df):\n",
        "    signals = []\n",
        "    for i in range(1, len(df)):\n",
        "        row, prev = df.iloc[i], df.iloc[i-1]\n",
        "        if (\n",
        "            row[\"ema50\"] > row[\"ema200\"] and\n",
        "            row[\"rsi\"] < 30 and\n",
        "            row[\"Close\"] > row[\"Open\"] and\n",
        "            prev[\"Close\"] < prev[\"Open\"]\n",
        "        ):\n",
        "            entry = row[\"Close\"]\n",
        "            sl = row[\"Low\"] - 0.0010\n",
        "            tp = entry + 2 * (entry - sl)\n",
        "            signals.append({\"index\": i, \"signal\": \"Buy\", \"entry\": entry, \"sl\": sl, \"tp\": tp})\n",
        "        elif (\n",
        "            row[\"ema50\"] < row[\"ema200\"] and\n",
        "            row[\"rsi\"] > 70 and\n",
        "            row[\"Close\"] < row[\"Open\"] and\n",
        "            prev[\"Close\"] > prev[\"Open\"]\n",
        "        ):\n",
        "            entry = row[\"Close\"]\n",
        "            sl = row[\"High\"] + 0.0010\n",
        "            tp = entry - 2 * (sl - entry)\n",
        "            signals.append({\"index\": i, \"signal\": \"Sell\", \"entry\": entry, \"sl\": sl, \"tp\": tp})\n",
        "    return signals\n",
        "\n",
        "signals = generate_signals(df)\n",
        "\n",
        "# ------------------- PLOT LAST SIGNAL --------------------\n",
        "if signals:\n",
        "    last = signals[-1]\n",
        "    idx = last[\"index\"]\n",
        "    window = df.iloc[max(0, idx-30): idx+5]\n",
        "\n",
        "    st.success(f\"**{last['signal']} Signal Found** at {df.index[idx]}\")\n",
        "    st.write(f\"**Entry:** {last['entry']:.5f} | **TP:** {last['tp']:.5f} | **SL:** {last['sl']:.5f}\")\n",
        "\n",
        "    fig = go.Figure([\n",
        "        go.Candlestick(\n",
        "            x=window.index,\n",
        "            open=window[\"Open\"],\n",
        "            high=window[\"High\"],\n",
        "            low=window[\"Low\"],\n",
        "            close=window[\"Close\"],\n",
        "            name=\"Price\"\n",
        "        ),\n",
        "        go.Scatter(x=[df.index[idx]], y=[last[\"entry\"]],\n",
        "                   mode=\"markers+text\", marker=dict(color=\"blue\", size=10),\n",
        "                   name=\"Entry\", text=[\"Entry\"], textposition=\"bottom center\"),\n",
        "        go.Scatter(x=[df.index[idx]], y=[last[\"tp\"]],\n",
        "                   mode=\"markers+text\", marker=dict(color=\"green\", size=10),\n",
        "                   name=\"TP\", text=[\"TP\"], textposition=\"top right\"),\n",
        "        go.Scatter(x=[df.index[idx]], y=[last[\"sl\"]],\n",
        "                   mode=\"markers+text\", marker=dict(color=\"red\", size=10),\n",
        "                   name=\"SL\", text=[\"SL\"], textposition=\"bottom right\")\n",
        "    ])\n",
        "    fig.update_layout(title=f\"{symbol_name} | {last['signal']} Signal\")\n",
        "    st.plotly_chart(fig, use_container_width=True)\n",
        "else:\n",
        "    st.warning(\"No valid signals found in selected period.\")\n",
        "\n",
        "# ------------------- FOOTER --------------------\n",
        "st.caption(\"⚡ Built in Streamlit | v0.1\")\n"
      ]
    }
  ]
}